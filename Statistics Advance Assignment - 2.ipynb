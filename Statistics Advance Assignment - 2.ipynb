{
 "cells": [
  {
   "cell_type": "markdown",
   "id": "14a2db62-c5ce-4b6f-a8ee-5dd0058d38c1",
   "metadata": {},
   "source": [
    "Q1: What are the Probability Mass Function (PMF) and Probability Density Function (PDF)? Explain with\n",
    "    an example.\n",
    "    \n",
    "Q2: What is Cumulative Density Function (CDF)? Explain with an example. Why CDF is used?\n",
    "\n",
    "Q3: What are some examples of situations where the normal distribution might be used as a model?\n",
    "    Explain how the parameters of the normal distribution relate to the shape of the distribution.\n",
    "    \n",
    "Q4: Explain the importance of Normal Distribution. Give a few real-life examples of Normal\n",
    "    Distribution.\n",
    "    \n",
    "Q5: What is Bernaulli Distribution? Give an Example. What is the difference between Bernoulli\n",
    "    Distribution and Binomial Distribution?\n",
    "    \n",
    "Q6. Consider a dataset with a mean of 50 and a standard deviation of 10. If we assume that the dataset\n",
    "    is normally distributed, what is the probability that a randomly selected observation will be greater\n",
    "    than 60? Use the appropriate formula and show your calculations.\n",
    "Q7: Explain uniform Distribution with an example.\n",
    "\n",
    "Q8: What is the z score? State the importance of the z score.\n",
    "\n",
    "Q9: What is Central Limit Theorem? State the significance of the Central Limit Theorem.\n",
    "\n",
    "Q10: State the assumptions of the Central Limit Theorem."
   ]
  },
  {
   "cell_type": "code",
   "execution_count": null,
   "id": "89f58d39-b6f6-47f8-ac86-5d5d56b1d96b",
   "metadata": {},
   "outputs": [],
   "source": []
  },
  {
   "cell_type": "markdown",
   "id": "b53890f9-5614-4f0b-bb92-6d7c52faa72b",
   "metadata": {},
   "source": [
    "Q1: Probability Mass Function (PMF) and Probability Density Function (PDF)\n",
    "   - PMF is used for discrete random variables, like counting the number of heads when flipping a coin multiple times. It tells you the probability of each possible outcome.\n",
    "   - PDF is for continuous random variables, like measuring the height of people. It shows the likelihood of getting a specific value within a range. For example, in a normal distribution, the PDF tells us the chance of a person's height being exactly 170 cm.\n",
    "\n",
    "Q2: Cumulative Density Function (CDF)\n",
    "   - CDF gives you the probability that a random variable is less than or equal to a specific value. It adds up the probabilities from the PMF or PDF. CDF is used to understand the likelihood of getting results up to a certain point. For instance, in a dice roll, the CDF tells you the chance of getting a number less than or equal to 4.\n",
    "\n",
    "Q3: Normal Distribution in Real Life\n",
    "   - The normal distribution is used in situations where data tends to cluster around a central value with symmetrical tails. Examples include the heights of people, IQ scores, and errors in measurements. The parameters, mean, and standard deviation, determine the center and spread of the distribution. A higher mean shifts the distribution to the right, and a larger standard deviation makes it wider.\n",
    "\n",
    "Q4: Importance of Normal Distribution\n",
    "   - The normal distribution is vital in statistics because it appears in many real-life situations. It allows us to make predictions and understand how data behaves. Examples include test scores, stock prices, and natural phenomena like heights and weights.\n",
    "\n",
    "Q5: Bernoulli Distribution\n",
    "   - The Bernoulli distribution models a single trial with two possible outcomes, typically labeled as success and failure. For example, in a coin flip, success can be heads (1), and failure can be tails (0). The difference between Bernoulli and Binomial distributions is that Bernoulli models one trial, while Binomial models multiple trials (like flipping a coin ten times and counting how many heads you get).\n",
    "\n",
    "Q6: Probability of a Random Observation\n",
    "   - To find the probability that a randomly selected observation from a normal distribution with mean 50 and standard deviation 10 is greater than 60, you would use the z-score formula. The z-score measures how many standard deviations the value is from the mean. You calculate it as (X - Mean) / Standard Deviation. Then, you look up the z-score in a standard normal distribution table or use a calculator to find the probability. In this case, the z-score is (60 - 50) / 10 = 1, and you can find the probability associated with a z-score of 1.\n",
    "\n",
    "Q7: Uniform Distribution\n",
    "   - A uniform distribution is when all values within a range are equally likely. For example, if you pick a random number between 1 and 6 (like rolling a fair six-sided die), each number has an equal chance of being selected. This is a classic example of a uniform distribution.\n",
    "\n",
    "Q8: Z-Score\n",
    "   - The z-score is a measure of how many standard deviations a data point is from the mean. It's essential because it allows you to compare different data sets on a standardized scale. It helps in understanding how unusual or typical a data point is within a distribution.\n",
    "\n",
    "Q9: Central Limit Theorem\n",
    "   - The Central Limit Theorem states that if you take many random samples from a population, the means of those samples will form a normal distribution, even if the original population is not normally distributed. This is significant because it allows statisticians to use normal distribution properties to make inferences about large datasets, making statistical analysis more manageable and reliable.\n",
    "\n",
    "Q10: Assumptions of the Central Limit Theorem\n",
    "   - The key assumptions of the Central Limit Theorem are:\n",
    "     1. The random samples are independent.\n",
    "     2. The sample size is sufficiently large (typically, n > 30 is considered large enough).\n",
    "     3. The population's underlying distribution, while not necessarily normal, should not be extremely skewed or have heavy tails."
   ]
  },
  {
   "cell_type": "code",
   "execution_count": null,
   "id": "7846117d-0fe7-476b-b0af-5f795e0d71a3",
   "metadata": {},
   "outputs": [],
   "source": []
  }
 ],
 "metadata": {
  "kernelspec": {
   "display_name": "Python 3 (ipykernel)",
   "language": "python",
   "name": "python3"
  },
  "language_info": {
   "codemirror_mode": {
    "name": "ipython",
    "version": 3
   },
   "file_extension": ".py",
   "mimetype": "text/x-python",
   "name": "python",
   "nbconvert_exporter": "python",
   "pygments_lexer": "ipython3",
   "version": "3.10.8"
  }
 },
 "nbformat": 4,
 "nbformat_minor": 5
}
