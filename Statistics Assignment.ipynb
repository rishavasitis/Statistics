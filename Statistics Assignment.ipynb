{
 "cells": [
  {
   "cell_type": "markdown",
   "id": "54f204c7-7d42-49bd-b465-1a592564af5e",
   "metadata": {},
   "source": [
    "Q1. What is Statistics?\n",
    "\n",
    "Q2. Define the different types of statistics and give an example of when each type might be used.\n",
    "\n",
    "Q3. What are the different types of data and how do they differ from each other? Provide an example of each type of         data.\n",
    "\n",
    "Q4. Categorise the following datasets with respect to quantitative and qualitative data types:\n",
    "    (i) Grading in exam: A+, A, B+, B, C+, C, D, E\n",
    "    (ii) Colour of mangoes: yellow, green, orange, red\n",
    "    (iii) Height data of a class: [178.9, 179, 179.5, 176, 177.2, 178.3, 175.8,...]\n",
    "    (iv) Number of mangoes exported by a farm: [500, 600, 478, 672, ...]\n",
    "Q5. Explain the concept of levels of measurement and give an example of a variable for each level.\n",
    "\n",
    "Q6. Why is it important to understand the level of measurement when analyzing data? Provide an\n",
    "    example to illustrate your answer.\n",
    "\n",
    "Q7. How nominal data type is different from ordinal data type\n",
    "\n",
    "Q8. Which type of plot can be used to display data in terms of range?\n",
    "\n",
    "Q9. Describe the difference between descriptive and inferential statistics. Give an example of each\n",
    "    type of statistics and explain how they are used.\n",
    "\n",
    "Q10. What are some common measures of central tendency and variability used in statistics? Explain\n",
    "    how each measure can be used to describe a dataset."
   ]
  },
  {
   "cell_type": "code",
   "execution_count": null,
   "id": "9b277007-e706-46fe-ba16-4a3f12f3dd95",
   "metadata": {},
   "outputs": [],
   "source": []
  },
  {
   "cell_type": "markdown",
   "id": "3df64408-04dd-4cc0-a097-bd76868c3621",
   "metadata": {},
   "source": [
    "Q1. **What is Statistics?**\n",
    "   - Statistics is the science of collecting, organizing, analyzing, interpreting, and presenting data. It helps us make sense of numerical information and make informed decisions. It's used in various fields to uncover patterns, draw conclusions, and make predictions based on data.\n",
    "\n",
    "Q2. **Types of Statistics:**\n",
    "   - 1. **Descriptive Statistics:** Involves summarizing and describing data, such as calculating averages or creating graphs. For example, finding the mean score of students in a class.\n",
    "   - 2. **Inferential Statistics:** Uses data to make inferences or predictions about a larger population. For instance, estimating the average income of all residents in a city based on a sample survey.\n",
    "\n",
    "Q3. **Types of Data:**\n",
    "   - 1. **Qualitative Data:** Consists of non-numeric categories or labels. Example: Types of fruit (apple, banana, orange).\n",
    "   - 2. **Quantitative Data:** Represents numerical values and can be further categorized as discrete (countable) or continuous (measured). Example: Number of students in a class (discrete) and temperature (continuous).\n",
    "\n",
    "Q4. **Categorizing Datasets:**\n",
    "   - (i) Grading in exam: Qualitative (ordinal)\n",
    "   - (ii) Colour of mangoes: Qualitative (nominal)\n",
    "   - (iii) Height data of a class: Quantitative (continuous)\n",
    "   - (iv) Number of mangoes exported by a farm: Quantitative (discrete)\n",
    "\n",
    "Q5. **Levels of Measurement:**\n",
    "   - 1. **Nominal:** Data in categories with no inherent order, like colors (red, blue).\n",
    "   - 2. **Ordinal:** Data with categories having an inherent order, like education levels (high school, bachelor's).\n",
    "   - 3. **Interval:** Quantitative data with equal intervals but no true zero point, like temperature in Celsius.\n",
    "   - 4. **Ratio:** Quantitative data with equal intervals and a meaningful zero point, like age or income.\n",
    "\n",
    "Q6. **Importance of Understanding Level of Measurement:**\n",
    "   - It's crucial because it determines which statistical methods are appropriate. For example, you can't calculate the mean of nominal data, but you can for ratio data. Using the wrong method can lead to incorrect conclusions.\n",
    "\n",
    "Q7. **Nominal vs. Ordinal Data:**\n",
    "   - Nominal data has categories without any inherent order, while ordinal data has categories with a meaningful order. For example, eye color (nominal) has no order, while education level (ordinal) does, as a master's degree is higher than a high school diploma.\n",
    "\n",
    "Q8. **Plot for Displaying Range:**\n",
    "   - A **box plot** (box-and-whisker plot) is often used to display data in terms of range. It shows the minimum, lower quartile, median, upper quartile, and maximum values.\n",
    "\n",
    "Q9. **Descriptive vs. Inferential Statistics:**\n",
    "   - **Descriptive statistics** describe and summarize data, e.g., calculating the average salary of a group. \n",
    "   - **Inferential statistics** make predictions or inferences about a larger population based on a sample, e.g., estimating the average income of all citizens from a survey of a subset.\n",
    "\n",
    "Q10. **Measures of Central Tendency and Variability:**\n",
    "   - **Central Tendency:** Measures like mean (average), median (middle value), and mode (most frequent value) summarize where data is centered.\n",
    "   - **Variability:** Measures like range (difference between max and min), variance (average of squared differences from the mean), and standard deviation (square root of variance) describe how data spreads or varies."
   ]
  },
  {
   "cell_type": "code",
   "execution_count": null,
   "id": "45462336-53bc-4058-8dae-bb4bcd3e53d9",
   "metadata": {},
   "outputs": [],
   "source": []
  }
 ],
 "metadata": {
  "kernelspec": {
   "display_name": "Python 3 (ipykernel)",
   "language": "python",
   "name": "python3"
  },
  "language_info": {
   "codemirror_mode": {
    "name": "ipython",
    "version": 3
   },
   "file_extension": ".py",
   "mimetype": "text/x-python",
   "name": "python",
   "nbconvert_exporter": "python",
   "pygments_lexer": "ipython3",
   "version": "3.10.8"
  }
 },
 "nbformat": 4,
 "nbformat_minor": 5
}
